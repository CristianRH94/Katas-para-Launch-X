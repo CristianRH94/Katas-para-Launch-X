{
 "cells": [
  {
   "cell_type": "markdown",
   "metadata": {},
   "source": [
    "Para este ejercicio, escribirás una lógica condicional que imprima una advertencia si un asteroide se acerca a la Tierra demasiado rápido. La velocidad del asteroide varía dependiendo de lo cerca que esté del sol, y cualquier velocidad superior a 25 kilómetros por segundo (km/s) merece una advertencia.\n",
    "\n",
    "Un asteroide se acerca, y viaja a una velocidad de 49 km/s."
   ]
  },
  {
   "cell_type": "code",
   "execution_count": 70,
   "metadata": {},
   "outputs": [
    {
     "name": "stdout",
     "output_type": "stream",
     "text": [
      " ALERTA \n",
      "Inminete destruccion total, velocidad actual de asteroide 49 km/s \n"
     ]
    }
   ],
   "source": [
    "velocidad_asteroide = 49\n",
    "limite_velocidad = 25\n",
    "\n",
    "if velocidad_asteroide > limite_velocidad :\n",
    "        print (\" ALERTA \\nInminete destruccion total, velocidad actual de asteroide \"  + str(velocidad_asteroide) + \" km/s \")   \n",
    "elif velocidad_asteroide == limite_velocidad :    \n",
    "        print (' ALERTA \\nlimite de velocidad critico, velocidad actual ' + str(velocidad_asteroide) + ' km/s ')\n",
    "else :\n",
    "        print (' Todo bien por aqui, podemos vivir un dia mas, velocidad actual del asteroide '  + str(velocidad_asteroide) + ' km/s ')\n",
    "\n",
    "\n",
    "\n"
   ]
  },
  {
   "cell_type": "markdown",
   "metadata": {},
   "source": [
    "Si un asteroide entra en la atmósfera de la Tierra a una velocidad mayor o igual a 20 km/s, a veces produce un rayo de luz que se puede ver desde la Tierra. Escribe la lógica condicional que usa declaraciones `if`, `else`, y `elif` para alertar a las personas de todo el mundo que deben buscar un asteroide en el cielo. ¡Hay uno que se dirige a la tierra ahora a una velocidad de 19 km/s!"
   ]
  },
  {
   "cell_type": "code",
   "execution_count": 71,
   "metadata": {},
   "outputs": [
    {
     "name": "stdout",
     "output_type": "stream",
     "text": [
      " Todo bien por aqui, podemos vivir un dia mas, velocidad actual del asteroide 19 km/s \n",
      " Aun no es visible el haz de luz, es su astigmatismo\n"
     ]
    }
   ],
   "source": [
    "velocidad_asteroide2 = 19\n",
    "limite_velocidad2 = 20\n",
    "\n",
    "if velocidad_asteroide2 > limite_velocidad2 :\n",
    "        print (\" ALERTA \\nInminete destruccion total, velocidad actual de asteroide \"  + str(velocidad_asteroide2) + \" km/s \\nBusque un rayo de luz en el cielo y corra al lado contrario\")   \n",
    "elif velocidad_asteroide2 == limite_velocidad2 :    \n",
    "        print (' ALERTA \\nlimite de velocidad critico, velocidad actual ' + str(velocidad_asteroide2) + ' km/s \\nPuede observar el haz de luz producido por el asteroide')\n",
    "else :\n",
    "        print (' Todo bien por aqui, podemos vivir un dia mas, velocidad actual del asteroide '  + str(velocidad_asteroide2) + ' km/s \\n Aun no es visible el haz de luz, es su astigmatismo')\n"
   ]
  },
  {
   "cell_type": "markdown",
   "metadata": {},
   "source": [
    "En este ejercicio, aprenderás información más matizada sobre cuándo los asteroides representan un peligro para la Tierra, y utilizarás esa información para mejorar nuestro sistema de advertencia. Aquí está la nueva información que necesitas saber:\n",
    "\n",
    "*Los asteroides de menos de 25 metros en su dimensión más grande probablemente se quemarán a medida que entren en la atmósfera de la Tierra.\n",
    "* Si una pieza de un asteroide que es más grande que 25 metros pero más pequeña que 1000 metros golpeara la Tierra, causaría mucho daño.\n",
    "\n",
    "También discutimos en el ejercicio anterior que:\n",
    "\n",
    "* La velocidad del asteroide varía en función de lo cerca que esté del sol, y cualquier velocidad superior a 25 kilómetros por segundo (km/s) merece una advertencia.\n",
    "* Si un asteroide entra en la atmósfera de la Tierra a una velocidad mayor o igual a 20 km/s, a veces produce un rayo de luz que se puede ver desde la Tierra.\n",
    "\n",
    "Usando toda esta información, escribe un programa que emita la advertencia o información correcta a la gente de la Tierra, según la velocidad y el tamaño de un asteroide. Utiliza instrucciones `if`, `else`, y `elif`, así como los operadores `and` y `or`."
   ]
  },
  {
   "cell_type": "code",
   "execution_count": 72,
   "metadata": {},
   "outputs": [
    {
     "name": "stdout",
     "output_type": "stream",
     "text": [
      " ALERTA \n",
      "Inminete destruccion total, podra observar un haz de luz en el cielo que indica el asteroide aproximandose a la atmosfera \n",
      "Valores actuales del asteroide \n",
      "49 km/s \n",
      "28 mts \n",
      " \n"
     ]
    }
   ],
   "source": [
    "Limite_inferior_diametro = 25\n",
    "limite_superior_diametro = 1000\n",
    "diametro_actual = 28\n",
    "#copia de variables como referencia\n",
    "#velocidad_asteroide = 49\n",
    "#limite_velocidad = 25\n",
    "#limite_velocidad2 = 20\n",
    "\n",
    "\n",
    "if velocidad_asteroide >= limite_velocidad and diametro_actual > Limite_inferior_diametro :\n",
    "       if velocidad_asteroide >= limite_velocidad2 :\n",
    "                print (\" ALERTA \\nInminete destruccion total, podra observar un haz de luz en el cielo que indica el asteroide aproximandose a la atmosfera \\nValores actuales del asteroide \\n\"  + str(velocidad_asteroide) + \" km/s \\n\" + str(diametro_actual) + ' mts \\n ')   \n",
    "       else :\n",
    "                print (\" ALERTA \\nInminete destruccion total \\nValores actuales del asteroide \\n\"  + str(velocidad_asteroide) + \" km/s \\n\" + str(diametro_actual) + ' mts \\n ')   \n",
    "elif velocidad_asteroide >= limite_velocidad and diametro_actual < Limite_inferior_diametro :\n",
    "       if velocidad_asteroide >= limite_velocidad2 :\n",
    "                print (\" ALERTA \\nSe ha registrado un asteroide entrando a ala atmosfera, este podria desintegrarse por completo en ella, podra observar un haz de luz en el cielo que indica el asteroide aproximandose a la atmosfera \\nValores actuales del asteroide \\n\"  + str(velocidad_asteroide) + \" km/s \\n\" + str(diametro_actual) + ' mts \\n ')   \n",
    "       else :\n",
    "                print (\" ALERTA \\nSe ha registrado un asteroide entrando a ala atmosfera, este podria desintegrarse por completo en ella \\nValores actuales del asteroide \\n\"  + str(velocidad_asteroide) + \" km/s \\n\" + str(diametro_actual) + ' mts \\n ')   \n",
    "\n",
    "\n",
    "\n",
    "elif velocidad_asteroide < limite_velocidad and diametro_actual > Limite_inferior_diametro :\n",
    "         if velocidad_asteroide >= limite_velocidad2 :\n",
    "                print (' ALERTA \\nla velocidad del asteroide no es critica, pero el diametro podria cuasar estragos potenciales \\nPuede observar el haz de luz en el cielo \\nvelocidad actual ' + str(velocidad_asteroide) + ' km/s \\n el diametro del asteroride supera los 25 Mts, tome sus precauciones \\nDiametro actual ' + str(diametro_actual) + ' mts'  )\n",
    "         else :\n",
    "                print (\" ALERTA \\nLa velocidad del asteroide no sobrepasa los limites pero sus dimensiones si, tome sus precauciones este podria causar estragos importantes \\nValores actuales del asteroide \\n\"  + str(velocidad_asteroide) + \" km/s \\n\" + str(diametro_actual) + ' mts \\n ')   \n",
    "elif velocidad_asteroide < limite_velocidad and diametro_actual < Limite_inferior_diametro :\n",
    "        if velocidad_asteroide >= limite_velocidad2 :\n",
    "                print (' ALERTA \\nla velocidad del asteroide no es critica, este no cusara estragos ya que se desintegrara en la atmosfera \\nPuede observar el haz de luz en el cielo \\nvelocidad actual ' + str(velocidad_asteroide) + ' km/s \\n el diametro del asteroride supera los 25 Mts, tome sus precauciones \\nDiametro actual ' + str(diametro_actual) + ' mts'  )\n",
    "        else :\n",
    "                print (\" ALERTA \\nLa velocidad del asteroide no sobrepasa los limites, Este se desintegraraen la atmosfera \\nValores actuales del asteroide \\n\"  + str(velocidad_asteroide) + \" km/s \\n\" + str(diametro_actual) + ' mts \\n ')   \n",
    "\n",
    "else :\n",
    "        print (' Todo bien por aqui, podemos vivir un dia mas ')\n",
    "\n"
   ]
  }
 ],
 "metadata": {
  "interpreter": {
   "hash": "ec5c5c3befbb3bbc8d56219aa44cbdf1a6c30b5ebc616b5a81f58538af91f56e"
  },
  "kernelspec": {
   "display_name": "Python 3.10.2 64-bit",
   "language": "python",
   "name": "python3"
  },
  "language_info": {
   "codemirror_mode": {
    "name": "ipython",
    "version": 3
   },
   "file_extension": ".py",
   "mimetype": "text/x-python",
   "name": "python",
   "nbconvert_exporter": "python",
   "pygments_lexer": "ipython3",
   "version": "3.10.2"
  },
  "orig_nbformat": 4
 },
 "nbformat": 4,
 "nbformat_minor": 2
}
