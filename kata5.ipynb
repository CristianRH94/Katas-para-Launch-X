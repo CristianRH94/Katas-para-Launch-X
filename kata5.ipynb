{
 "cells": [
  {
   "cell_type": "markdown",
   "metadata": {},
   "source": [
    "Exploremos cómo podemos crear un programa que pueda calcular la distancia entre dos planetas.  Comenzaremos usando dos distancias de planetas: Tierra (149.597.870 km) y Júpiter (778.547.200 km)."
   ]
  },
  {
   "cell_type": "code",
   "execution_count": 8,
   "metadata": {},
   "outputs": [],
   "source": [
    "primer_planeta = 149597870\n",
    "segundo_planeta = 778547200"
   ]
  },
  {
   "cell_type": "markdown",
   "metadata": {},
   "source": [
    "Con los valores obtenidos, es el momento de añadir el código para realizar la operación. Restarás el primer planeta del segundo para determinar la distancia en kilómetros. A continuación, puedes convertir la distancia del kilómetro en millas multiplicándola por `0.621`."
   ]
  },
  {
   "cell_type": "code",
   "execution_count": 9,
   "metadata": {},
   "outputs": [
    {
     "name": "stdout",
     "output_type": "stream",
     "text": [
      "628949330\n",
      "390577533.93\n"
     ]
    }
   ],
   "source": [
    "distanciakm = segundo_planeta - primer_planeta\n",
    "print(distanciakm)\n",
    "\n",
    "distance_mi = distanciakm * 0.621\n",
    "print(distance_mi)"
   ]
  },
  {
   "cell_type": "markdown",
   "metadata": {},
   "source": [
    "Usando `input`, agrega el código para leer la distancia del sol para cada planeta, considerando 2 planetas."
   ]
  },
  {
   "cell_type": "code",
   "execution_count": 10,
   "metadata": {},
   "outputs": [],
   "source": [
    "primer_planeta = input('Introduzca la distancia del sol para el primer planeta en KM')\n",
    "segundo_planeta = input('Introduzca la distancia desde el sol para el segundo planeta en KM')"
   ]
  },
  {
   "cell_type": "markdown",
   "metadata": {},
   "source": [
    "Debido a que `input` devuelve valores de cadena, necesitamos convertirlos en números. Para nuestro ejemplo, usaremos `int`"
   ]
  },
  {
   "cell_type": "code",
   "execution_count": 16,
   "metadata": {},
   "outputs": [],
   "source": [
    "primer_planeta = int(primer_planeta)\n",
    "segundo_planeta = int(segundo_planeta)"
   ]
  },
  {
   "cell_type": "markdown",
   "metadata": {},
   "source": [
    "Con los valores almacenados como números, ahora puedes agregar el código para realizar el cálculo, restando el primer planeta del segundo. Debido a que el segundo planeta podría ser un número mayor, usarás `abs` para convertirlo a un valor absoluto. También agregarás el código para mostrar el resultado en millas multiplicando la distancia del kilómetro por 0.621"
   ]
  },
  {
   "cell_type": "code",
   "execution_count": 15,
   "metadata": {},
   "outputs": [
    {
     "name": "stdout",
     "output_type": "stream",
     "text": [
      "50300000\n",
      "31236300.0\n"
     ]
    }
   ],
   "source": [
    "distanciakm = segundo_planeta - primer_planeta\n",
    "print(distanciakm)\n",
    "\n",
    "\n",
    "distanciami = distanciakm * 0.621\n",
    "print(abs(distanciami))"
   ]
  }
 ],
 "metadata": {
  "interpreter": {
   "hash": "ec5c5c3befbb3bbc8d56219aa44cbdf1a6c30b5ebc616b5a81f58538af91f56e"
  },
  "kernelspec": {
   "display_name": "Python 3.10.2 64-bit",
   "language": "python",
   "name": "python3"
  },
  "language_info": {
   "codemirror_mode": {
    "name": "ipython",
    "version": 3
   },
   "file_extension": ".py",
   "mimetype": "text/x-python",
   "name": "python",
   "nbconvert_exporter": "python",
   "pygments_lexer": "ipython3",
   "version": "3.10.2"
  },
  "orig_nbformat": 4
 },
 "nbformat": 4,
 "nbformat_minor": 2
}
